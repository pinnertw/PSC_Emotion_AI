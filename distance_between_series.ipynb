{
 "cells": [
  {
   "cell_type": "code",
   "execution_count": 1,
   "metadata": {
    "colab": {
     "base_uri": "https://localhost:8080/",
     "height": 74
    },
    "colab_type": "code",
    "id": "YfC3XPEaPnqM",
    "outputId": "8e2f0893-30d0-4377-e03d-fffd578a5aa0"
   },
   "outputs": [
    {
     "name": "stderr",
     "output_type": "stream",
     "text": [
      "C:\\Users\\peng-weiCHEN\\anaconda3\\envs\\psc\\lib\\site-packages\\sklearn\\utils\\deprecation.py:144: FutureWarning: The sklearn.cluster.k_means_ module is  deprecated in version 0.22 and will be removed in version 0.24. The corresponding classes / functions should instead be imported from sklearn.cluster. Anything that cannot be imported from sklearn.cluster is now part of the private API.\n",
      "  warnings.warn(message, FutureWarning)\n"
     ]
    }
   ],
   "source": [
    "import pandas as pd\n",
    "import numpy as np\n",
    "import matplotlib.pyplot as plt\n",
    "from tslearn.clustering import TimeSeriesKMeans\n",
    "from sklearn.preprocessing import StandardScaler\n",
    "from sklearn.decomposition import PCA\n",
    "\n",
    "np.random.seed(4)"
   ]
  },
  {
   "cell_type": "code",
   "execution_count": 2,
   "metadata": {},
   "outputs": [],
   "source": [
    "root_path=''"
   ]
  },
  {
   "cell_type": "code",
   "execution_count": 20,
   "metadata": {
    "colab": {},
    "colab_type": "code",
    "id": "SsIIvkyimaFp"
   },
   "outputs": [],
   "source": [
    "X_train = np.load(root_path+'X_train_ori.npy')\n",
    "X_test = np.load(root_path+'X_test_ori.npy')\n",
    "#eye_1s = np.load('data_1.npy')\n",
    "y_train = np.load(root_path+'Y_train_ori.npy') #Si on veut que valence, mettre [:,0]. Si on veut arousal, mettre [:,1]. Si on veut les deux, rien mettre\n",
    "y_test = np.load(root_path+'Y_test_ori.npy') #idem\n",
    "#labels_1 = np.load('label_1.npy')"
   ]
  },
  {
   "cell_type": "code",
   "execution_count": 21,
   "metadata": {
    "colab": {
     "base_uri": "https://localhost:8080/",
     "height": 91
    },
    "colab_type": "code",
    "id": "BXvGVaman6vB",
    "outputId": "daf2e59b-aa92-47f0-ec2f-f75dc97a7044"
   },
   "outputs": [
    {
     "name": "stdout",
     "output_type": "stream",
     "text": [
      "(174, 16000, 94)\n",
      "(174, 2)\n",
      "(44, 16000, 94)\n",
      "(44, 2)\n"
     ]
    }
   ],
   "source": [
    "print(X_train.shape)\n",
    "print(y_train.shape)\n",
    "print(X_test.shape)\n",
    "print(y_test.shape)\n",
    "#176: nombres de vidéos ,500: nombre de times samples, 76: nombre de charactéristiques (38 pour chaque oeil)"
   ]
  },
  {
   "cell_type": "code",
   "execution_count": 22,
   "metadata": {
    "colab": {},
    "colab_type": "code",
    "id": "JpFhlItgmaFt"
   },
   "outputs": [],
   "source": [
    "#cellule optionnelle\n",
    "\n",
    "class_nb = 7 # Convert labels from [0,1] to {0,1} or {0, 1, 2}\n",
    "\n",
    "if class_nb == 3:\n",
    "    y_train[y_train < 0.2] = 0\n",
    "    y_train[(y_train > 0.7)] = 2\n",
    "    y_train[(y_train >= 0.2) * (y_train <= 0.7)] = 1\n",
    "\n",
    "    y_test[y_test <= 0.2] = 0\n",
    "    y_test[(y_test > 0.7)] = 2\n",
    "    y_test[(y_test > 0.2) * (y_test <= 0.7)] = 1\n",
    "\n",
    "elif class_nb == 2:\n",
    "    y_train[y_train <= 0.51] = 0\n",
    "    y_train[y_train > 0.51] = 1\n",
    "    \n",
    "    y_test[y_test <= 0.51] = 0\n",
    "    y_test[y_test > 0.51] = 1\n",
    "else:\n",
    "    pass"
   ]
  },
  {
   "cell_type": "code",
   "execution_count": 23,
   "metadata": {
    "colab": {
     "base_uri": "https://localhost:8080/",
     "height": 128
    },
    "colab_type": "code",
    "id": "VwSy7IjkmaFw",
    "outputId": "690d6f58-2b1d-4dee-c17f-5097a0d66f92"
   },
   "outputs": [
    {
     "name": "stdout",
     "output_type": "stream",
     "text": [
      "Initializing PCA with train set\n",
      "Test processing...Finished!\n",
      "Percent of values explained by axe: [0.11925205 0.08457853 0.0744392  0.07118035 0.05953302 0.04815948\n",
      " 0.04437237]\n",
      "Percent of values explained(total): 0.5015149975543809\n",
      "Wall time: 26.4 s\n"
     ]
    }
   ],
   "source": [
    "%%time\n",
    "\n",
    "nb_pca = 7 #7 avant, je teste avec 5 même si ça explique moins de variance\n",
    "###### Train #####\n",
    "print(\"Initializing PCA with train set\")\n",
    "x = X_train.reshape(X_train.shape[0] * X_train.shape[1], X_train.shape[2])\n",
    "# Normalisation\n",
    "standard = StandardScaler()\n",
    "x = standard.fit_transform(x)\n",
    "\n",
    "# PCA\n",
    "pca = PCA(n_components=nb_pca)\n",
    "x = pca.fit_transform(x) #normalisation\n",
    "\n",
    "X_train = x.reshape(X_train.shape[0], X_train.shape[1], nb_pca)\n",
    "\n",
    "###### Test #####\n",
    "print(\"Test processing...\", end='')\n",
    "x = X_test.reshape(X_test.shape[0] * X_test.shape[1], X_test.shape[2])\n",
    "x = standard.transform(x)\n",
    "\n",
    "# PCA\n",
    "x = pca.transform(x)\n",
    "\n",
    "X_test = x.reshape(X_test.shape[0], X_test.shape[1], nb_pca)\n",
    "print(\"Finished!\")\n",
    "\n",
    "# Show PCA explanation ratio\n",
    "print(\"Percent of values explained by axe:\", pca.explained_variance_ratio_)\n",
    "print(\"Percent of values explained(total):\", pca.explained_variance_ratio_.sum())"
   ]
  },
  {
   "cell_type": "markdown",
   "metadata": {
    "colab_type": "text",
    "id": "XCGWDEC3maFz"
   },
   "source": [
    "# A faire varier\n",
    "*  nb_clusters \n",
    "* metric = \"dtw\" ou \"euclidean\"\n",
    "* méthode pour définir la valeur dans un cluster\n",
    "* valence ou arousal ou les deux pour la fonction choix (1ere ou deuxième colonne de y_train)"
   ]
  },
  {
   "cell_type": "code",
   "execution_count": 72,
   "metadata": {
    "colab": {
     "base_uri": "https://localhost:8080/",
     "height": 36
    },
    "colab_type": "code",
    "id": "jL2uUn9MmaF0",
    "outputId": "c2a0b1b2-3a41-49fb-fff7-ae7673e4c4aa"
   },
   "outputs": [
    {
     "name": "stdout",
     "output_type": "stream",
     "text": [
      "Running KMeans Algorithm...Finished!\n"
     ]
    }
   ],
   "source": [
    "##### KMeans #####\n",
    "nb_clusters = 4\n",
    "\n",
    "print(\"Running KMeans Algorithm...\", end='')\n",
    "km = TimeSeriesKMeans(n_clusters=nb_clusters, metric=\"dtw\", max_iter=5,n_jobs=-1, random_state=0).fit(X_train)\n",
    "print(\"Finished!\")"
   ]
  },
  {
   "cell_type": "code",
   "execution_count": 73,
   "metadata": {
    "colab": {},
    "colab_type": "code",
    "id": "MqQGZsDXmaF2"
   },
   "outputs": [],
   "source": [
    "class_train = km.predict(X_train)\n",
    "dic = {} #dic[i]: ensemble des labels des vidéos du cluster i\n",
    "for i in np.unique(class_train):\n",
    "    dic[i] = []\n",
    "    for j in range(len(class_train)):\n",
    "        if class_train[j] == i:\n",
    "            dic[i].append(y_train[j])\n",
    "    dic[i] = np.array(dic[i])"
   ]
  },
  {
   "cell_type": "code",
   "execution_count": 74,
   "metadata": {
    "colab": {
     "base_uri": "https://localhost:8080/",
     "height": 184
    },
    "colab_type": "code",
    "id": "poqBBBqTiTik",
    "outputId": "d9b864aa-12a6-4e63-b306-f01bb36750aa"
   },
   "outputs": [
    {
     "name": "stdout",
     "output_type": "stream",
     "text": [
      "Nombre de ts dans la classe 0 : 35\n",
      "Valence moyenne dans la classe :  0.5380952380952381\n",
      "Arousal moyenne dans la classe :  0.4809523809523809\n",
      "Nombre de ts dans la classe 1 : 14\n",
      "Valence moyenne dans la classe :  0.5833333333333333\n",
      "Arousal moyenne dans la classe :  0.5357142857142857\n",
      "Nombre de ts dans la classe 2 : 90\n",
      "Valence moyenne dans la classe :  0.6518518518518518\n",
      "Arousal moyenne dans la classe :  0.4981481481481482\n",
      "Nombre de ts dans la classe 3 : 35\n",
      "Valence moyenne dans la classe :  0.5952380952380953\n",
      "Arousal moyenne dans la classe :  0.5476190476190477\n"
     ]
    }
   ],
   "source": [
    "#Pour vérifier si la répartition dans les clusters est homogène\n",
    "\n",
    "for i in dic.keys():\n",
    "    print(\"Nombre de ts dans la classe {} : {}\".format(i,len(dic[i]))) \n",
    "    print(\"Valence moyenne dans la classe : \",np.mean(dic[i][:,0])) #enlever [:,0] si on n'a pris que la valence au début dans y_train\n",
    "    print(\"Arousal moyenne dans la classe : \",np.mean(dic[i][:,1])) \n",
    "\n",
    "#problème: on ne réussit pas à faire des clusters \"neutre\", \"positif\", \"négatif\" "
   ]
  },
  {
   "cell_type": "markdown",
   "metadata": {
    "colab_type": "text",
    "id": "kUvV9cgCmaF4"
   },
   "source": [
    "# A définir\n",
    "La fonction choix"
   ]
  },
  {
   "cell_type": "code",
   "execution_count": 75,
   "metadata": {
    "colab": {
     "base_uri": "https://localhost:8080/",
     "height": 54
    },
    "colab_type": "code",
    "id": "69-_vt_JmaF4",
    "outputId": "c5aef7b4-32bd-4160-f994-f2e1c7c46494"
   },
   "outputs": [],
   "source": [
    "#Fonction de choix pour une régression\n",
    "\n",
    "def choix(lis): #lis: liste des labels en valence-arousal des vidéos du cluster i (les labels sont soit juste val, soit juste ar, soit tableau [val,ar])\n",
    "    #ie si on prend valence&arousal, lis = [[val_1,arousal_1], ..., [val_p,arousal_p]]\n",
    "    # Changez le code!!! Différents méthodes pour définir la valeur dans un cluster.\n",
    "    #proposition: renvoyer la valence et l'arousal moyennes des gens du cluster sous la forme d'un tableau [valence_predite,arousal_predite]=[valence_moy_cluster,arousal_moy_cluster]\n",
    "    return np.mean(lis,axis=0)\n",
    "\n",
    "\n",
    "class_test = km.predict(X_test) #avant, np.squeeze(km.predict(X_test)), mais inutile?\n",
    "prediction_test = []\n",
    "for i in class_test:\n",
    "    prediction_test.append(choix(dic[i])) # C'est là qu'on définit le choix\n",
    "                                          # dic[i] est une listes des valeurs réelles dont leur données sont dans \n",
    "                                          # la classe i.\n",
    "prediction = np.array(prediction_test)"
   ]
  },
  {
   "cell_type": "code",
   "execution_count": 76,
   "metadata": {
    "colab": {
     "base_uri": "https://localhost:8080/",
     "height": 54
    },
    "colab_type": "code",
    "id": "69-_vt_JmaF4",
    "outputId": "c5aef7b4-32bd-4160-f994-f2e1c7c46494"
   },
   "outputs": [
    {
     "name": "stdout",
     "output_type": "stream",
     "text": [
      "nb_clusters = 4\n",
      "Erreur sur la valence :  3.724308160974827\n",
      "Erreur sur l'arousal :  3.2356182001420097\n"
     ]
    }
   ],
   "source": [
    "erreurValence = (np.mean((prediction[:,0]*6 - y_test[:,0]*6)**2))\n",
    "erreurArousal = (np.mean((prediction[:,1]*6 - y_test[:,1]*6)**2))\n",
    "print(\"nb_clusters = {}\".format(nb_clusters))\n",
    "print(\"Erreur sur la valence : \",erreurValence)\n",
    "print(\"Erreur sur l'arousal : \",erreurArousal)"
   ]
  },
  {
   "cell_type": "raw",
   "metadata": {},
   "source": [
    "nb_clusters = 12\n",
    "Erreur sur la valence :  4.0138605153465345\n",
    "Erreur sur l'arousal :  2.9138296485369097\n",
    "nb_clusters = 11\n",
    "Erreur sur la valence :  4.057203027075275\n",
    "Erreur sur l'arousal :  2.7836535491592422\n",
    "nb_clusters = 10\n",
    "Erreur sur la valence :  3.6869712905714356\n",
    "Erreur sur l'arousal :  2.814231529769121\n",
    "nb_clusters = 9\n",
    "Erreur sur la valence :  3.8411388218912648\n",
    "Erreur sur l'arousal :  3.0037803599153183\n",
    "nb_clusters = 8\n",
    "Erreur sur la valence :  3.7328673360412883\n",
    "Erreur sur l'arousal :  2.8763221098426315\n",
    "nb_clusters = 7\n",
    "Erreur sur la valence :  3.728421804006541\n",
    "Erreur sur l'arousal :  3.005628163251684\n",
    "nb_clusters = 6\n",
    "Erreur sur la valence :  3.9826523023674794\n",
    "Erreur sur l'arousal :  3.2695116902275676\n",
    "nb_clusters = 5\n",
    "Erreur sur la valence :  3.8233080673721305\n",
    "Erreur sur l'arousal :  3.2371509900982214\n",
    "nb_clusters = 4\n",
    "Erreur sur la valence :  3.724308160974827\n",
    "Erreur sur l'arousal :  3.2356182001420097\n"
   ]
  }
 ],
 "metadata": {
  "colab": {
   "collapsed_sections": [],
   "name": "distance between series.ipynb",
   "provenance": []
  },
  "kernelspec": {
   "display_name": "Python 3",
   "language": "python",
   "name": "python3"
  },
  "language_info": {
   "codemirror_mode": {
    "name": "ipython",
    "version": 3
   },
   "file_extension": ".py",
   "mimetype": "text/x-python",
   "name": "python",
   "nbconvert_exporter": "python",
   "pygments_lexer": "ipython3",
   "version": "3.7.6"
  }
 },
 "nbformat": 4,
 "nbformat_minor": 1
}
